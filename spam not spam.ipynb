{
 "cells": [
  {
   "cell_type": "code",
   "execution_count": 2,
   "id": "ae185919",
   "metadata": {},
   "outputs": [],
   "source": [
    "from tensorflow.keras.models import load_model\n"
   ]
  },
  {
   "cell_type": "code",
   "execution_count": 5,
   "id": "68cf8043",
   "metadata": {},
   "outputs": [],
   "source": [
    "from tensorflow.keras.layers import Input, Lambda, Dense, Flatten,Dropout,experimental\n",
    "from tensorflow.keras.models import Model\n",
    "from tensorflow.keras.applications.vgg19 import VGG19\n",
    "from tensorflow.keras.applications.vgg19 import preprocess_input\n",
    "from tensorflow.keras.preprocessing import image\n",
    "from tensorflow.keras.preprocessing.image import ImageDataGenerator\n",
    "from tensorflow.keras.models import Sequential\n",
    "import tensorflow as tf\n",
    "\n",
    "import numpy as np\n",
    "import pandas as pd\n",
    "import os\n",
    "import cv2\n",
    "import matplotlib.pyplot as plt"
   ]
  },
  {
   "cell_type": "code",
   "execution_count": 92,
   "id": "e455589c",
   "metadata": {},
   "outputs": [],
   "source": [
    "savedModel=load_model('vgg19Model.h5')\n",
    "saved=load_model(\"resNet50Model.h5\")"
   ]
  },
  {
   "cell_type": "code",
   "execution_count": null,
   "id": "08eec923",
   "metadata": {},
   "outputs": [],
   "source": []
  },
  {
   "cell_type": "code",
   "execution_count": 93,
   "id": "2a730f8f",
   "metadata": {},
   "outputs": [],
   "source": [
    "test_path=\"spam\"\n",
    "z = \"test\"\n",
    "x_test=[]\n",
    "z_test = []\n",
    "for folder in os.listdir(test_path):\n",
    "\n",
    "    sub_path=test_path+\"/\"+folder\n",
    "\n",
    "    for img in os.listdir(sub_path):\n",
    "\n",
    "        image_path=sub_path+\"/\"+img\n",
    "\n",
    "        img_arr=cv2.imread(image_path)\n",
    "\n",
    "        img_arr=cv2.resize(img_arr,(224,224))\n",
    "\n",
    "        x_test.append(img_arr)\n",
    "for folder in os.listdir(z):\n",
    "\n",
    "    sub_path=z+\"/\"+folder\n",
    "\n",
    "    for img in os.listdir(sub_path):\n",
    "\n",
    "        image_path=sub_path+\"/\"+img\n",
    "\n",
    "        img_arr=cv2.imread(image_path)\n",
    "\n",
    "        img_arr=cv2.resize(img_arr,(224,224))\n",
    "\n",
    "        z_test.append(img_arr)"
   ]
  },
  {
   "cell_type": "code",
   "execution_count": 94,
   "id": "5f3ae04a",
   "metadata": {},
   "outputs": [],
   "source": [
    "test_x=np.array(x_test)\n",
    "test_x=test_x/255.0\n",
    "\n",
    "test_z = np.array(z_test)\n",
    "test_z = test_z/255.0"
   ]
  },
  {
   "cell_type": "code",
   "execution_count": null,
   "id": "5de84c8c",
   "metadata": {},
   "outputs": [],
   "source": []
  },
  {
   "cell_type": "code",
   "execution_count": 61,
   "id": "67ebf59e",
   "metadata": {},
   "outputs": [],
   "source": [
    "predict = savedModel.predict(test_z)"
   ]
  },
  {
   "cell_type": "code",
   "execution_count": 86,
   "id": "0753b0fe",
   "metadata": {},
   "outputs": [
    {
     "name": "stdout",
     "output_type": "stream",
     "text": [
      "0.92725533\n",
      "0.9925055\n",
      "0.99412644\n",
      "0.99223846\n",
      "0.97296876\n",
      "0.9879149\n",
      "0.9946562\n",
      "0.9958747\n",
      "0.40497765\n",
      "0.9419599\n",
      "0.70673704\n",
      "0.5480249\n",
      "0.9054797\n",
      "0.7773314\n",
      "0.5303226\n",
      "0.9988632\n",
      "0.92173696\n",
      "0.4086397\n",
      "0.6681017\n",
      "0.59417576\n",
      "0.998898\n",
      "0.99972624\n",
      "0.9994242\n",
      "0.99443394\n",
      "0.9950335\n",
      "0.878188\n",
      "0.89424706\n",
      "0.9890787\n",
      "0.7375\n",
      "0.6890544\n",
      "0.64397824\n",
      "0.9963069\n",
      "0.9992207\n",
      "0.9424426\n",
      "0.9545744\n",
      "0.9987668\n",
      "0.9992207\n",
      "0.9987668\n",
      "0.82587206\n",
      "0.9559044\n",
      "0.9648827\n",
      "0.9099583\n",
      "0.9987766\n",
      "0.9613066\n",
      "0.95872766\n",
      "0.9851468\n",
      "0.99845517\n",
      "0.95421326\n",
      "0.96148074\n",
      "0.98773545\n",
      "0.94604826\n",
      "0.99719834\n",
      "0.99625164\n",
      "0.99269754\n",
      "0.9986468\n",
      "0.9951308\n",
      "0.5968008\n",
      "0.99461854\n",
      "0.98327315\n",
      "0.9984434\n",
      "0.99419075\n",
      "0.9979005\n",
      "0.9765023\n",
      "0.86295635\n",
      "0.992867\n",
      "0.86295635\n",
      "0.9907659\n",
      "0.9787041\n",
      "0.9393893\n"
     ]
    }
   ],
   "source": [
    "ans = [np.argmax(elements) for elements in predict]\n",
    "i = 0\n",
    "for p in predict:\n",
    "    print(p[ans[i]])\n",
    "    i += 1\n",
    "    "
   ]
  },
  {
   "cell_type": "code",
   "execution_count": 68,
   "id": "29a7afc6",
   "metadata": {},
   "outputs": [],
   "source": [
    "pr = savedModel.predict(test_x)"
   ]
  },
  {
   "cell_type": "code",
   "execution_count": 91,
   "id": "17ecf301",
   "metadata": {},
   "outputs": [
    {
     "name": "stdout",
     "output_type": "stream",
     "text": [
      "0.5875371\n",
      "0.58545274\n",
      "0.927119\n",
      "0.5785943\n",
      "0.96456116\n",
      "0.88721865\n",
      "0.6585523\n",
      "0.75740737\n"
     ]
    }
   ],
   "source": [
    "ans = [np.argmax(elements) for elements in pr]\n",
    "i = 0\n",
    "for p in pr:\n",
    "    print(p[ans[i]])\n",
    "    i += 1\n"
   ]
  },
  {
   "cell_type": "code",
   "execution_count": 49,
   "id": "f204796e",
   "metadata": {},
   "outputs": [],
   "source": []
  },
  {
   "cell_type": "code",
   "execution_count": 96,
   "id": "5b167f9f",
   "metadata": {},
   "outputs": [],
   "source": [
    "predictResSpam = saved.predict(test_x)"
   ]
  },
  {
   "cell_type": "code",
   "execution_count": 100,
   "id": "b923a48e",
   "metadata": {},
   "outputs": [],
   "source": [
    "predictRes = saved.predict(test_z)"
   ]
  },
  {
   "cell_type": "code",
   "execution_count": 98,
   "id": "ff36c561",
   "metadata": {},
   "outputs": [
    {
     "name": "stdout",
     "output_type": "stream",
     "text": [
      "0.5222599\n",
      "0.8971113\n",
      "0.52558917\n",
      "0.39815807\n",
      "0.5894745\n",
      "0.66339624\n",
      "0.9910416\n",
      "0.56219226\n"
     ]
    }
   ],
   "source": [
    "ans = [np.argmax(elements) for elements in predictResSpam]\n",
    "i = 0\n",
    "for p in predictResSpam:\n",
    "    print(p[ans[i]])\n",
    "    i += 1"
   ]
  },
  {
   "cell_type": "code",
   "execution_count": 101,
   "id": "0f64b26a",
   "metadata": {},
   "outputs": [
    {
     "name": "stdout",
     "output_type": "stream",
     "text": [
      "0.43563005\n",
      "0.28932527\n",
      "0.3985959\n",
      "0.7709206\n",
      "0.47714588\n",
      "0.53083575\n",
      "0.5607271\n",
      "0.49389645\n",
      "0.5922503\n",
      "0.7970058\n",
      "0.40249324\n",
      "0.6758726\n",
      "0.4627813\n",
      "0.5915331\n",
      "0.34443545\n",
      "0.45367894\n",
      "0.4544955\n",
      "0.3164445\n",
      "0.43465146\n",
      "0.37514314\n",
      "0.89519507\n",
      "0.9556615\n",
      "0.9123514\n",
      "0.68489885\n",
      "0.47247604\n",
      "0.752664\n",
      "0.74161464\n",
      "0.45874664\n",
      "0.9352937\n",
      "0.3839492\n",
      "0.5733493\n",
      "0.47022483\n",
      "0.7640803\n",
      "0.6302539\n",
      "0.8875855\n",
      "0.978221\n",
      "0.7640803\n",
      "0.978221\n",
      "0.39069068\n",
      "0.59275115\n",
      "0.4597086\n",
      "0.9922311\n",
      "0.723364\n",
      "0.93499607\n",
      "0.7356728\n",
      "0.5388278\n",
      "0.6460335\n",
      "0.4829232\n",
      "0.41909257\n",
      "0.5753049\n",
      "0.4357239\n",
      "0.55971134\n",
      "0.67559826\n",
      "0.698081\n",
      "0.66454935\n",
      "0.6362474\n",
      "0.46552217\n",
      "0.41898087\n",
      "0.6009258\n",
      "0.8738663\n",
      "0.4770497\n",
      "0.5501775\n",
      "0.6661124\n",
      "0.3650263\n",
      "0.68032336\n",
      "0.36502656\n",
      "0.5300723\n",
      "0.53153473\n",
      "0.40365523\n"
     ]
    }
   ],
   "source": [
    "ans = [np.argmax(elements) for elements in predictRes]\n",
    "i = 0\n",
    "for p in predictRes:\n",
    "    print(p[ans[i]])\n",
    "    i += 1"
   ]
  },
  {
   "cell_type": "code",
   "execution_count": null,
   "id": "90645d19",
   "metadata": {},
   "outputs": [],
   "source": []
  },
  {
   "cell_type": "code",
   "execution_count": null,
   "id": "6b8d8ab4",
   "metadata": {},
   "outputs": [],
   "source": []
  }
 ],
 "metadata": {
  "kernelspec": {
   "display_name": "Python 3 (ipykernel)",
   "language": "python",
   "name": "python3"
  },
  "language_info": {
   "codemirror_mode": {
    "name": "ipython",
    "version": 3
   },
   "file_extension": ".py",
   "mimetype": "text/x-python",
   "name": "python",
   "nbconvert_exporter": "python",
   "pygments_lexer": "ipython3",
   "version": "3.9.7"
  }
 },
 "nbformat": 4,
 "nbformat_minor": 5
}
