{
 "cells": [
  {
   "cell_type": "code",
   "execution_count": 1,
   "id": "897761cd",
   "metadata": {},
   "outputs": [],
   "source": [
    "from tensorflow.keras.layers import Input, Lambda, Dense, Flatten,Dropout,experimental\n",
    "from tensorflow.keras.models import Model\n",
    "from tensorflow.keras.applications.resnet50 import ResNet50\n",
    "from tensorflow.keras.applications.vgg19 import preprocess_input\n",
    "from tensorflow.keras.preprocessing import image\n",
    "from tensorflow.keras.preprocessing.image import ImageDataGenerator\n",
    "from tensorflow.keras.models import Sequential\n",
    "import tensorflow as tf\n",
    "\n",
    "import numpy as np\n",
    "import pandas as pd\n",
    "import os\n",
    "\n",
    "import cv2\n",
    "import matplotlib.pyplot as plt"
   ]
  },
  {
   "cell_type": "code",
   "execution_count": 2,
   "id": "b7fa512c",
   "metadata": {},
   "outputs": [],
   "source": [
    "train_path=\"train\"\n",
    "test_path=\"test\"\n",
    "val_path=\"validate\""
   ]
  },
  {
   "cell_type": "code",
   "execution_count": 3,
   "id": "d089ca54",
   "metadata": {},
   "outputs": [],
   "source": [
    "x_train=[]\n",
    "\n",
    "for folder in os.listdir(train_path):\n",
    "\n",
    "    sub_path=train_path+\"/\"+folder\n",
    "\n",
    "    for img in os.listdir(sub_path):\n",
    "\n",
    "        image_path=sub_path+\"/\"+img\n",
    "\n",
    "        img_arr=cv2.imread(image_path)\n",
    "\n",
    "        img_arr=cv2.resize(img_arr,(224,224))\n",
    "\n",
    "        x_train.append(img_arr)\n",
    "\n",
    "x_test=[]\n",
    "for folder in os.listdir(test_path):\n",
    "\n",
    "    sub_path=test_path+\"/\"+folder\n",
    "\n",
    "    for img in os.listdir(sub_path):\n",
    "\n",
    "        image_path=sub_path+\"/\"+img\n",
    "\n",
    "        img_arr=cv2.imread(image_path)\n",
    "\n",
    "        img_arr=cv2.resize(img_arr,(224,224))\n",
    "\n",
    "        x_test.append(img_arr)\n",
    "\n",
    "x_val=[]\n",
    "\n",
    "for folder in os.listdir(val_path):\n",
    "\n",
    "    sub_path=val_path+\"/\"+folder\n",
    "\n",
    "    for img in os.listdir(sub_path):\n",
    "\n",
    "        image_path=sub_path+\"/\"+img\n",
    "\n",
    "        img_arr=cv2.imread(image_path)\n",
    "        \n",
    "        img_arr=cv2.resize(img_arr,(224,224))\n",
    "\n",
    "        x_val.append(img_arr)"
   ]
  },
  {
   "cell_type": "code",
   "execution_count": 4,
   "id": "461371f0",
   "metadata": {},
   "outputs": [],
   "source": [
    "# Generate Lable \n",
    "train_datagen = ImageDataGenerator(rescale = 1./255)\n",
    "test_datagen = ImageDataGenerator(rescale = 1./255)\n",
    "val_datagen = ImageDataGenerator(rescale = 1./255)"
   ]
  },
  {
   "cell_type": "code",
   "execution_count": 5,
   "id": "c24eff95",
   "metadata": {},
   "outputs": [
    {
     "name": "stdout",
     "output_type": "stream",
     "text": [
      "Found 149 images belonging to 5 classes.\n",
      "Found 69 images belonging to 5 classes.\n",
      "Found 67 images belonging to 5 classes.\n"
     ]
    }
   ],
   "source": [
    "\n",
    "training_set = train_datagen.flow_from_directory(\"train\",\n",
    "                                                 target_size = (224, 224),\n",
    "                                                 batch_size = 32,\n",
    "                                                 class_mode = 'categorical')\n",
    "test_set = test_datagen.flow_from_directory(test_path,\n",
    "                                            target_size = (224, 224),\n",
    "                                            batch_size = 32,\n",
    "                                            class_mode = 'sparse')\n",
    "val_set = val_datagen.flow_from_directory(val_path,\n",
    "                                            target_size = (224, 224),\n",
    "                                            batch_size = 32,\n",
    "                                            class_mode = 'sparse')"
   ]
  },
  {
   "cell_type": "code",
   "execution_count": 6,
   "id": "cac4733f",
   "metadata": {},
   "outputs": [],
   "source": [
    "train_y = training_set.classes\n",
    "test_y = test_set.classes\n",
    "val_y = val_set.classes"
   ]
  },
  {
   "cell_type": "code",
   "execution_count": 7,
   "id": "7ba18462",
   "metadata": {},
   "outputs": [],
   "source": [
    "train_y = training_set.classes\n",
    "test_y = test_set.classes\n",
    "val_y = val_set.classes"
   ]
  },
  {
   "cell_type": "code",
   "execution_count": 9,
   "id": "777b1188",
   "metadata": {},
   "outputs": [],
   "source": [
    "IMG_SIZE = 224\n",
    "def augment(image, label):\n",
    "    img = tf.cast(image, tf.float32)\n",
    "    img = tf.image.resize(image, [IMG_SIZE, IMG_SIZE])\n",
    "    img = (image / 255.0)\n",
    "    img = tf.image.random_crop(image, size=[IMG_SIZE, IMG_SIZE, 3])\n",
    "    img = tf.image.random_brightness(image, max_delta=0.5)\n",
    "    return img, label  "
   ]
  },
  {
   "cell_type": "code",
   "execution_count": 10,
   "id": "0c7de44f",
   "metadata": {},
   "outputs": [],
   "source": [
    "#Data Augmentation\n",
    "augmented_images = list(map(augment,x_train,train_y))"
   ]
  },
  {
   "cell_type": "code",
   "execution_count": 11,
   "id": "852c59a6",
   "metadata": {},
   "outputs": [],
   "source": [
    "for image in augmented_images:\n",
    "    x_train.append(image[0])\n",
    "    train_y = np.append(train_y,image[1])"
   ]
  },
  {
   "cell_type": "code",
   "execution_count": 13,
   "id": "59565f6b",
   "metadata": {},
   "outputs": [],
   "source": [
    "train_x=np.array(x_train)\n",
    "test_x=np.array(x_test)\n",
    "val_x=np.array(x_val)"
   ]
  },
  {
   "cell_type": "code",
   "execution_count": 14,
   "id": "4a1a9d21",
   "metadata": {},
   "outputs": [],
   "source": [
    "train_x=train_x/255.0\n",
    "test_x=test_x/255.0\n",
    "val_x=val_x/255.0"
   ]
  },
  {
   "cell_type": "code",
   "execution_count": 15,
   "id": "8774ef9e",
   "metadata": {},
   "outputs": [
    {
     "data": {
      "text/plain": [
       "{0: 'bridge', 1: 'brokenPipe', 2: 'fallenPole', 3: 'garbage', 4: 'pitHole'}"
      ]
     },
     "execution_count": 15,
     "metadata": {},
     "output_type": "execute_result"
    }
   ],
   "source": [
    "lables = {}\n",
    "lables[0] = \"bridge\"\n",
    "lables[1] = \"brokenPipe\"\n",
    "lables[2] = \"fallenPole\"\n",
    "lables[3] = \"garbage\"\n",
    "lables[4] = \"pitHole\"\n",
    "lables"
   ]
  },
  {
   "cell_type": "code",
   "execution_count": 27,
   "id": "473da9da",
   "metadata": {},
   "outputs": [],
   "source": [
    "base_model = tf.keras.applications.efficientnet.EfficientNetB0(include_top=False)\n",
    "base_model.trainable = True"
   ]
  },
  {
   "cell_type": "code",
   "execution_count": 28,
   "id": "c8a7aa3b",
   "metadata": {},
   "outputs": [],
   "source": [
    "from tensorflow.keras import layers\n",
    "inputs = layers.Input(shape = (224,224,3), name='inputLayer')\n",
    "\n",
    "x = base_model(inputs, training = False)\n",
    "x = layers.GlobalAveragePooling2D(name='poolingLayer')(x)\n",
    "x = layers.Dense(5, name='outputLayer')(x)\n",
    "outputs = layers.Activation(activation=\"softmax\", dtype=tf.float32, name='activationLayer')(x)\n",
    "\n",
    "model = tf.keras.Model(inputs, outputs, name = \"FeatureExtractionModel\")\n"
   ]
  },
  {
   "cell_type": "code",
   "execution_count": 29,
   "id": "7bbe5c00",
   "metadata": {},
   "outputs": [
    {
     "name": "stdout",
     "output_type": "stream",
     "text": [
      "Model: \"FeatureExtractionModel\"\n",
      "_________________________________________________________________\n",
      "Layer (type)                 Output Shape              Param #   \n",
      "=================================================================\n",
      "inputLayer (InputLayer)      [(None, 224, 224, 3)]     0         \n",
      "_________________________________________________________________\n",
      "efficientnetb0 (Functional)  (None, None, None, 1280)  4049571   \n",
      "_________________________________________________________________\n",
      "poolingLayer (GlobalAverageP (None, 1280)              0         \n",
      "_________________________________________________________________\n",
      "outputLayer (Dense)          (None, 5)                 6405      \n",
      "_________________________________________________________________\n",
      "activationLayer (Activation) (None, 5)                 0         \n",
      "=================================================================\n",
      "Total params: 4,055,976\n",
      "Trainable params: 4,013,953\n",
      "Non-trainable params: 42,023\n",
      "_________________________________________________________________\n"
     ]
    }
   ],
   "source": [
    "model.summary()"
   ]
  },
  {
   "cell_type": "code",
   "execution_count": 30,
   "id": "4ee9aa31",
   "metadata": {},
   "outputs": [],
   "source": [
    "\n",
    "for layer in model.layers[1].layers:\n",
    "    if isinstance(layer, layers.BatchNormalization):\n",
    "        layer.trainable = False"
   ]
  },
  {
   "cell_type": "code",
   "execution_count": 31,
   "id": "1f45d0ef",
   "metadata": {},
   "outputs": [
    {
     "name": "stdout",
     "output_type": "stream",
     "text": [
      "0 inputLayer True float32 <Policy \"float32\">\n",
      "1 efficientnetb0 True float32 <Policy \"float32\">\n",
      "2 poolingLayer True float32 <Policy \"float32\">\n",
      "3 outputLayer True float32 <Policy \"float32\">\n",
      "4 activationLayer True float32 <Policy \"float32\">\n"
     ]
    }
   ],
   "source": [
    "for lnum, layer in enumerate(model.layers):\n",
    "    print(lnum, layer.name, layer.trainable, layer.dtype, layer.dtype_policy)"
   ]
  },
  {
   "cell_type": "code",
   "execution_count": 32,
   "id": "586e7ac3",
   "metadata": {},
   "outputs": [],
   "source": [
    "model.compile(loss = tf.keras.losses.SparseCategoricalCrossentropy(),\n",
    "              optimizer = tf.keras.optimizers.Adam(learning_rate=0.0001),\n",
    "              metrics = [\"accuracy\"])\n",
    "from tensorflow.keras.callbacks import EarlyStopping\n",
    "early_stop=EarlyStopping(monitor='val_loss',mode='min',verbose=1,patience=5)"
   ]
  },
  {
   "cell_type": "code",
   "execution_count": 34,
   "id": "bff72c6c",
   "metadata": {},
   "outputs": [
    {
     "name": "stdout",
     "output_type": "stream",
     "text": [
      "Epoch 1/10\n",
      "14/14 [==============================] - 129s 10s/step - loss: 1.5814 - accuracy: 0.2886 - val_loss: 1.6175 - val_accuracy: 0.2239\n",
      "Epoch 2/10\n",
      "14/14 [==============================] - 59s 4s/step - loss: 1.5802 - accuracy: 0.2886 - val_loss: 1.6196 - val_accuracy: 0.2239\n",
      "Epoch 3/10\n",
      "14/14 [==============================] - 61s 4s/step - loss: 1.5801 - accuracy: 0.2886 - val_loss: 1.6232 - val_accuracy: 0.2239\n",
      "Epoch 4/10\n",
      "14/14 [==============================] - 57s 4s/step - loss: 1.5799 - accuracy: 0.2886 - val_loss: 1.6158 - val_accuracy: 0.2239\n",
      "Epoch 5/10\n",
      "14/14 [==============================] - 58s 4s/step - loss: 1.5832 - accuracy: 0.2886 - val_loss: 1.6216 - val_accuracy: 0.2239\n",
      "Epoch 6/10\n",
      "14/14 [==============================] - 57s 4s/step - loss: 1.5832 - accuracy: 0.2886 - val_loss: 1.6100 - val_accuracy: 0.2239\n",
      "Epoch 7/10\n",
      "14/14 [==============================] - 58s 4s/step - loss: 1.5818 - accuracy: 0.2886 - val_loss: 1.6198 - val_accuracy: 0.2239\n",
      "Epoch 8/10\n",
      "14/14 [==============================] - 58s 4s/step - loss: 1.5837 - accuracy: 0.2886 - val_loss: 1.6147 - val_accuracy: 0.2239\n",
      "Epoch 9/10\n",
      "14/14 [==============================] - 57s 4s/step - loss: 1.5804 - accuracy: 0.2886 - val_loss: 1.6243 - val_accuracy: 0.2239\n",
      "Epoch 10/10\n",
      "14/14 [==============================] - 58s 4s/step - loss: 1.5807 - accuracy: 0.2886 - val_loss: 1.6161 - val_accuracy: 0.2239\n"
     ]
    }
   ],
   "source": [
    "# fit the model\n",
    "history = model.fit(\n",
    "  train_x,\n",
    "  train_y,\n",
    "  validation_data=(val_x,val_y),\n",
    "  epochs=10,\n",
    "  callbacks=[early_stop],\n",
    "  batch_size=32,shuffle=True)\n"
   ]
  },
  {
   "cell_type": "code",
   "execution_count": null,
   "id": "f924985f",
   "metadata": {},
   "outputs": [],
   "source": []
  }
 ],
 "metadata": {
  "kernelspec": {
   "display_name": "Python 3 (ipykernel)",
   "language": "python",
   "name": "python3"
  },
  "language_info": {
   "codemirror_mode": {
    "name": "ipython",
    "version": 3
   },
   "file_extension": ".py",
   "mimetype": "text/x-python",
   "name": "python",
   "nbconvert_exporter": "python",
   "pygments_lexer": "ipython3",
   "version": "3.9.7"
  }
 },
 "nbformat": 4,
 "nbformat_minor": 5
}
